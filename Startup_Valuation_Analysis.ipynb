{
 "cells": [
  {
   "cell_type": "markdown",
   "id": "e99d7e4b",
   "metadata": {},
   "source": [
    "# Startup Valuation Analysis\n",
    "## Using DCF and Market Multiples\n",
    "\n",
    "This notebook provides a comprehensive valuation analysis for startups using:\n",
    "- **Discounted Cash Flow (DCF)** modeling\n",
    "- **Market Multiples** analysis using comparable companies\n",
    "- **Sensitivity Analysis** for key assumptions\n",
    "- **Professional reporting** with visualizations\n",
    "\n",
    "Perfect for MBA students in Venture Capital, Investment Banking, and Startup Finance."
   ]
  },
  {
   "cell_type": "code",
   "execution_count": null,
   "id": "a9d66d51",
   "metadata": {},
   "outputs": [],
   "source": [
    "# Import the valuation model\n",
    "from startup_valuation_model import StartupValuation\n",
    "import warnings\n",
    "warnings.filterwarnings('ignore')\n",
    "\n",
    "# Initialize the model\n",
    "valuation = StartupValuation()\n",
    "print(\"Startup Valuation Model Initialized Successfully! 🚀\")"
   ]
  },
  {
   "cell_type": "markdown",
   "id": "bb88ccf6",
   "metadata": {},
   "source": [
    "## Step 1: Historical Financial Analysis\n",
    "\n",
    "Let's start by analyzing the historical performance of our startup to understand:\n",
    "- Revenue growth trends\n",
    "- Profitability evolution\n",
    "- Cash flow generation\n",
    "- Key financial ratios"
   ]
  },
  {
   "cell_type": "code",
   "execution_count": null,
   "id": "9634367f",
   "metadata": {},
   "outputs": [],
   "source": [
    "# Analyze historical performance\n",
    "historical_metrics = valuation.analyze_historical_performance()"
   ]
  },
  {
   "cell_type": "markdown",
   "id": "a3d1d25c",
   "metadata": {},
   "source": [
    "## Step 2: Financial Projections\n",
    "\n",
    "Based on historical trends and industry benchmarks, let's project future financial performance:"
   ]
  },
  {
   "cell_type": "code",
   "execution_count": null,
   "id": "b3cc3e60",
   "metadata": {},
   "outputs": [],
   "source": [
    "# Generate 5-year financial projections\n",
    "projections = valuation.project_financials(years=5)"
   ]
  },
  {
   "cell_type": "markdown",
   "id": "e41cbc45",
   "metadata": {},
   "source": [
    "## Step 3: DCF Valuation\n",
    "\n",
    "Now let's calculate the intrinsic value using Discounted Cash Flow methodology:\n",
    "- Calculate WACC (Weighted Average Cost of Capital)\n",
    "- Discount projected free cash flows\n",
    "- Calculate terminal value\n",
    "- Perform sensitivity analysis"
   ]
  },
  {
   "cell_type": "code",
   "execution_count": null,
   "id": "5457656d",
   "metadata": {},
   "outputs": [],
   "source": [
    "# Calculate DCF valuation\n",
    "dcf_results = valuation.calculate_dcf_valuation()"
   ]
  },
  {
   "cell_type": "markdown",
   "id": "ac386002",
   "metadata": {},
   "source": [
    "## Step 4: Market Multiples Analysis\n",
    "\n",
    "Let's value the startup using market multiples from comparable companies:\n",
    "- EV/Revenue multiples\n",
    "- EV/EBITDA multiples\n",
    "- Public vs Private company comparisons"
   ]
  },
  {
   "cell_type": "code",
   "execution_count": null,
   "id": "0e85e340",
   "metadata": {},
   "outputs": [],
   "source": [
    "# Perform market multiples analysis\n",
    "multiples_results = valuation.market_multiples_analysis()"
   ]
  },
  {
   "cell_type": "markdown",
   "id": "4fbbea80",
   "metadata": {},
   "source": [
    "## Step 5: Final Valuation Summary\n",
    "\n",
    "Let's synthesize both approaches to arrive at a final valuation recommendation:"
   ]
  },
  {
   "cell_type": "code",
   "execution_count": null,
   "id": "e0b063da",
   "metadata": {},
   "outputs": [],
   "source": [
    "# Generate comprehensive valuation summary\n",
    "final_results = valuation.generate_valuation_summary(dcf_results, multiples_results)"
   ]
  },
  {
   "cell_type": "markdown",
   "id": "0ef57ab1",
   "metadata": {},
   "source": [
    "## Investment Recommendation\n",
    "\n",
    "Based on our comprehensive analysis using both fundamental (DCF) and relative (market multiples) valuation approaches:"
   ]
  },
  {
   "cell_type": "code",
   "execution_count": null,
   "id": "f6120059",
   "metadata": {},
   "outputs": [],
   "source": [
    "print(\"🎯 FINAL INVESTMENT RECOMMENDATION\")\n",
    "print(\"=\"*50)\n",
    "print(f\"Target Valuation: ${final_results['weighted_valuation']/1e6:.1f}M\")\n",
    "print(f\"Valuation Range: ${final_results['valuation_range'][0]/1e6:.1f}M - ${final_results['valuation_range'][1]/1e6:.1f}M\")\n",
    "print(f\"DCF Valuation: ${final_results['dcf_valuation']/1e6:.1f}M\")\n",
    "print(f\"Market Multiples (Median): ${final_results['multiples_median']/1e6:.1f}M\")\n",
    "\n",
    "# Additional insights\n",
    "dcf_premium = (final_results['dcf_valuation'] / final_results['multiples_median'] - 1) * 100\n",
    "print(f\"\\nDCF vs Market Premium: {dcf_premium:+.1f}%\")\n",
    "\n",
    "if dcf_premium > 10:\n",
    "    print(\"💡 DCF suggests the company may be undervalued by market multiples\")\n",
    "elif dcf_premium < -10:\n",
    "    print(\"⚠️  Market multiples suggest DCF assumptions may be optimistic\")\n",
    "else:\n",
    "    print(\"✅ DCF and market multiples are reasonably aligned\")"
   ]
  },
  {
   "cell_type": "markdown",
   "id": "422248ee",
   "metadata": {},
   "source": [
    "## Key Learning Points\n",
    "\n",
    "This analysis demonstrates:\n",
    "\n",
    "1. **DCF Analysis**: Fundamental valuation based on projected cash flows and risk-adjusted discount rates\n",
    "2. **Market Multiples**: Relative valuation using comparable company metrics\n",
    "3. **Sensitivity Analysis**: Understanding how key assumptions impact valuation\n",
    "4. **Professional Approach**: Combining multiple methodologies for robust valuation\n",
    "\n",
    "Perfect for understanding startup valuation in venture capital and investment banking contexts!"
   ]
  }
 ],
 "metadata": {
  "language_info": {
   "name": "python"
  }
 },
 "nbformat": 4,
 "nbformat_minor": 5
}
